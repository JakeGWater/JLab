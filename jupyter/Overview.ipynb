{
 "cells": [
  {
   "cell_type": "markdown",
   "id": "55395521",
   "metadata": {},
   "source": [
    "## Installed Libraries"
   ]
  },
  {
   "cell_type": "code",
   "execution_count": 1,
   "id": "fe1fbf96",
   "metadata": {},
   "outputs": [],
   "source": [
    "import OpenEXR as exr\n",
    "import OpenImageIO as oiio\n",
    "import PyOpenColorIO as ocio\n",
    "import numpy as np\n",
    "import scipy\n",
    "\n",
    "import jlab"
   ]
  },
  {
   "cell_type": "markdown",
   "id": "60ff5a96",
   "metadata": {},
   "source": [
    "## OpenImage"
   ]
  },
  {
   "cell_type": "code",
   "execution_count": 2,
   "id": "40a65f9e",
   "metadata": {},
   "outputs": [
    {
     "name": "stdout",
     "output_type": "stream",
     "text": [
      "/ocio/OpenColorIO-Config-ACES-1.2/aces_1.2/config.ocio\n"
     ]
    }
   ],
   "source": [
    "color_config = oiio.ColorConfig()\n",
    "print(color_config.configname())\n",
    "# color_config.getDisplayNames()\n",
    "# color_config.getColorSpaceNames()"
   ]
  },
  {
   "cell_type": "code",
   "execution_count": 3,
   "id": "cfb83b7b",
   "metadata": {},
   "outputs": [
    {
     "data": {
      "text/plain": [
       "'/ocio/OpenColorIO-Config-ACES-1.2/aces_1.2/config.ocio'"
      ]
     },
     "execution_count": 3,
     "metadata": {},
     "output_type": "execute_result"
    }
   ],
   "source": [
    "oiio.ColorConfig().configname()"
   ]
  },
  {
   "cell_type": "code",
   "execution_count": 4,
   "id": "d9bb582e",
   "metadata": {},
   "outputs": [
    {
     "data": {
      "text/plain": [
       "['R', 'G', 'B']"
      ]
     },
     "execution_count": 4,
     "metadata": {},
     "output_type": "execute_result"
    }
   ],
   "source": [
    "bt2111 = oiio.ImageInput.open(\"data/BT.2111-sRGB.exr\")\n",
    "[bt2111.spec().channel_name(i) for i in range(0,3)]"
   ]
  },
  {
   "cell_type": "code",
   "execution_count": 7,
   "id": "018e28d4",
   "metadata": {},
   "outputs": [
    {
     "name": "stdout",
     "output_type": "stream",
     "text": [
      "['__class__', '__delattr__', '__dir__', '__doc__', '__eq__', '__format__', '__ge__', '__getattribute__', '__gt__', '__hash__', '__init__', '__init_subclass__', '__le__', '__lt__', '__ne__', '__new__', '__reduce__', '__reduce_ex__', '__repr__', '__setattr__', '__sizeof__', '__str__', '__subclasshook__', 'createEditableCopy', 'getDirection', 'getDst', 'getSrc', 'isEditable', 'setDirection', 'setDst', 'setSrc']\n",
      "sRGB\n",
      "sRGB - linear\n"
     ]
    }
   ],
   "source": [
    "transform = ocio.ColorSpaceTransform()\n",
    "print(dir(transform))\n",
    "transform.setDst('sRGB')\n",
    "transform.setSrc('sRGB - linear')\n",
    "\n",
    "print(transform.getDst())\n",
    "print(transform.getSrc())"
   ]
  },
  {
   "cell_type": "markdown",
   "id": "e5c3f574",
   "metadata": {},
   "source": [
    "## Numpy Color"
   ]
  },
  {
   "cell_type": "code",
   "execution_count": 6,
   "id": "c5d79475",
   "metadata": {},
   "outputs": [
    {
     "data": {
      "text/plain": [
       "array([0, 1, 2, 3, 4, 5, 6, 7, 8, 9])"
      ]
     },
     "execution_count": 6,
     "metadata": {},
     "output_type": "execute_result"
    }
   ],
   "source": [
    "np.arange(10)"
   ]
  }
 ],
 "metadata": {
  "kernelspec": {
   "display_name": "Python 3",
   "language": "python",
   "name": "python3"
  },
  "language_info": {
   "codemirror_mode": {
    "name": "ipython",
    "version": 3
   },
   "file_extension": ".py",
   "mimetype": "text/x-python",
   "name": "python",
   "nbconvert_exporter": "python",
   "pygments_lexer": "ipython3",
   "version": "3.8.5"
  }
 },
 "nbformat": 4,
 "nbformat_minor": 5
}
